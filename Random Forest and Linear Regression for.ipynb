{
 "cells": [
  {
   "cell_type": "markdown",
   "id": "cab16c7e-df81-4b64-9daa-cd3067173077",
   "metadata": {},
   "source": [
    "# Random Forest, KNN, and Linear Regression for Car Insurance Policy Dataset"
   ]
  },
  {
   "cell_type": "code",
   "execution_count": 46,
   "id": "20ed304e-e895-49a7-9a01-687f6fb97e0b",
   "metadata": {
    "tags": []
   },
   "outputs": [],
   "source": [
    "import numpy as np\n",
    "import pandas as pd\n",
    "from sklearn.linear_model import LinearRegression\n",
    "from sklearn.neighbors import KNeighborsClassifier\n",
    "from sklearn.ensemble import RandomForestClassifier, RandomForestRegressor\n",
    "from sklearn.preprocessing import OrdinalEncoder, PolynomialFeatures\n",
    "from sklearn.metrics import mean_squared_error, r2_score, precision_score, accuracy_score, recall_score, confusion_matrix, f1_score\n",
    "from sklearn.feature_selection import SelectKBest\n",
    "from sklearn.feature_selection import f_regression\n",
    "from sklearn.preprocessing import MinMaxScaler\n",
    "import seaborn as sns  \n",
    "from IPython.display import display\n",
    "import matplotlib.pyplot as plt\n",
    "from matplotlib import pyplot\n",
    "import os\n",
    "from pathlib import Path\n"
   ]
  },
  {
   "cell_type": "markdown",
   "id": "855535a0-3f71-43e9-b73f-c75a3be9d268",
   "metadata": {},
   "source": [
    "# Data Preprocessing"
   ]
  },
  {
   "cell_type": "code",
   "execution_count": 49,
   "id": "ecad3020-6dc2-4efd-9efa-88f34de7715a",
   "metadata": {
    "tags": []
   },
   "outputs": [],
   "source": [
    "def preprocess_data(df):\n",
    "    def extract_month(age):\n",
    "        try:\n",
    "            year_month = age.split(' and ')\n",
    "            year = int(year_month[0].split()[0])\n",
    "            month = int(year_month[1].split()[0])\n",
    "            month += 12*year\n",
    "        except:\n",
    "            month = int(age.split()[0])\n",
    "        return month\n",
    "    \n",
    "    def extract_power(power_rpm):\n",
    "        power = float(power_rpm.split('bhp@')[0])\n",
    "        return power\n",
    "\n",
    "    def extract_torque(torque_rpm):\n",
    "        torque = float(torque_rpm.split('Nm@')[0])\n",
    "        return torque\n",
    "        \n",
    "    df.drop(columns=['engine_type',\n",
    "                     'is_power_steering'], inplace=True)\n",
    "\n",
    "    df.dropna(inplace=True)\n",
    "\n",
    "    # Convert Yes to 1 and No to 0\n",
    "    df.replace('Yes', 1, inplace=True)\n",
    "    df.replace('No', 0, inplace=True)\n",
    "    \n",
    "    # Convert columns to numerical and One-Hot Encoding\n",
    "    df = df.assign(\n",
    "        age_of_car=df['age_of_car'].apply(lambda x: extract_month(x)),\n",
    "        max_power=df['max_power'].apply(lambda x: extract_power(x)),\n",
    "        max_torque=df['max_torque'].apply(lambda x: extract_torque(x)),        \n",
    "        rear_brakes_type=np.where(df.rear_brakes_type=='Disc', 1, 0),\n",
    "        transmission_type=np.where(df.transmission_type == 'Automatic', 1, 0),\n",
    "        area_cluster_C1=np.where(df.area_cluster == 'C1', 1, 0),\n",
    "        area_cluster_C2=np.where(df.area_cluster == 'C2', 1, 0),\n",
    "        area_cluster_C3=np.where(df.area_cluster == 'C3', 1, 0),\n",
    "        area_cluster_C4=np.where(df.area_cluster == 'C4', 1, 0),\n",
    "        area_cluster_C5=np.where(df.area_cluster == 'C5', 1, 0),\n",
    "        area_cluster_C6=np.where(df.area_cluster == 'C6', 1, 0),\n",
    "        area_cluster_C7=np.where(df.area_cluster == 'C7', 1, 0),\n",
    "        area_cluster_C8=np.where(df.area_cluster == 'C8', 1, 0),\n",
    "        area_cluster_C9=np.where(df.area_cluster == 'C9', 1, 0),\n",
    "        area_cluster_C10=np.where(df.area_cluster == 'C10', 1, 0),\n",
    "        area_cluster_C11=np.where(df.area_cluster == 'C11', 1, 0),\n",
    "        area_cluster_C12=np.where(df.area_cluster == 'C12', 1, 0),\n",
    "        area_cluster_C13=np.where(df.area_cluster == 'C13', 1, 0),\n",
    "        area_cluster_C14=np.where(df.area_cluster == 'C14', 1, 0),\n",
    "        area_cluster_C15=np.where(df.area_cluster == 'C15', 1, 0),\n",
    "        area_cluster_C16=np.where(df.area_cluster == 'C16', 1, 0),\n",
    "        area_cluster_C17=np.where(df.area_cluster == 'C17', 1, 0),\n",
    "        area_cluster_C18=np.where(df.area_cluster == 'C18', 1, 0),\n",
    "        area_cluster_C19=np.where(df.area_cluster == 'C19', 1, 0),\n",
    "        area_cluster_C20=np.where(df.area_cluster == 'C20', 1, 0),\n",
    "        area_cluster_C21=np.where(df.area_cluster == 'C21', 1, 0),\n",
    "        area_cluster_C22=np.where(df.area_cluster == 'C22', 1, 0),\n",
    "        model_M1=np.where(df.model == 'M1', 1, 0),\n",
    "        model_M2=np.where(df.model == 'M2', 1, 0),\n",
    "        model_M3=np.where(df.model == 'M3', 1, 0),\n",
    "        model_M4=np.where(df.model == 'M4', 1, 0),\n",
    "        model_M5=np.where(df.model == 'M5', 1, 0),\n",
    "        model_M6=np.where(df.model == 'M6', 1, 0),\n",
    "        model_M7=np.where(df.model == 'M7', 1, 0),\n",
    "        model_M8=np.where(df.model == 'M8', 1, 0),\n",
    "        model_M9=np.where(df.model == 'M9', 1, 0),\n",
    "        model_M10=np.where(df.model == 'M10', 1, 0),\n",
    "        model_M11=np.where(df.model == 'M11', 1, 0),\n",
    "        fuel_type_Petrol=np.where(df.fuel_type == 'Petrol', 1, 0),\n",
    "        fuel_type_Diesel=np.where(df.fuel_type == 'Diesel', 1, 0),\n",
    "        fuel_type_CNG=np.where(df.fuel_type == 'CNG', 1, 0),\n",
    "        steering_type_Manual=np.where(df.steering_type == 'Manual', 1, 0),\n",
    "        steering_type_Power=np.where(df.steering_type == 'Power', 1, 0),\n",
    "        steering_type_Electric=np.where(df.steering_type == 'Electric', 1, 0),\n",
    "        make_1=np.where(df.make == 1, 1, 0),\n",
    "        make_2=np.where(df.make == 2, 1, 0),\n",
    "        make_3=np.where(df.make == 3, 1, 0),\n",
    "        make_4=np.where(df.make == 4, 1, 0),\n",
    "        make_5=np.where(df.make == 5, 1, 0),\n",
    "        segment_A=np.where(df.segment == 'A', 1, 0),\n",
    "        segment_B1=np.where(df.segment == 'B1', 1, 0),\n",
    "        segment_B2=np.where(df.segment == 'B2', 1, 0),\n",
    "        segment_C1=np.where(df.segment == 'C1', 1, 0),\n",
    "        segment_C2=np.where(df.segment == 'C2', 1, 0),\n",
    "        segment_U=np.where(df.segment == 'Utility', 1, 0)\n",
    "    )\n",
    "\n",
    "    df.drop(columns=['area_cluster', 'model', 'make', 'segment', 'fuel_type', 'steering_type'], inplace=True)\n",
    "    \n",
    "    return df\n",
    "\n",
    "    "
   ]
  },
  {
   "cell_type": "code",
   "execution_count": 50,
   "id": "3bc02255-7626-404f-a3c2-93fed1bbb18f",
   "metadata": {},
   "outputs": [],
   "source": [
    "def drop_features_clf(df):\n",
    "    new = df.drop(columns=['population_density',\n",
    "                     'max_torque',\n",
    "                     'max_power',\n",
    "                     'cylinder',\n",
    "                     'length',\n",
    "                     'width',\n",
    "                     'height',\n",
    "                     'make_1',\n",
    "                     'make_2',\n",
    "                     'make_3',\n",
    "                     'make_4',\n",
    "                     'make_5',\n",
    "                     'segment_A',\n",
    "                     'segment_B1',\n",
    "                     'segment_B2',\n",
    "                     'segment_C1',\n",
    "                     'segment_C2',\n",
    "                     'segment_U',\n",
    "                     'airbags',\n",
    "                     'is_esc',\n",
    "                     'is_adjustable_steering',\n",
    "                     'is_tpms',\n",
    "                     'is_parking_sensors',\n",
    "                     'is_parking_camera',\n",
    "                     'rear_brakes_type',\n",
    "                     'displacement',\n",
    "                     'transmission_type',\n",
    "                     'gear_box',\n",
    "                     'turning_radius',\n",
    "                     'gross_weight',\n",
    "                     'is_front_fog_lights',\n",
    "                     'is_rear_window_wiper',\n",
    "                     'is_rear_window_washer',\n",
    "                     'is_rear_window_defogger',\n",
    "                     'is_brake_assist',\n",
    "                     'is_power_door_locks',\n",
    "                     'is_central_locking',\n",
    "                     'is_driver_seat_height_adjustable',\n",
    "                     'is_day_night_rear_view_mirror',\n",
    "                     'is_ecw',\n",
    "                     'is_speed_alert',\n",
    "                     'age_of_policyholder',\n",
    "                     'ncap_rating'])    \n",
    "    return new\n",
    "    "
   ]
  },
  {
   "cell_type": "code",
   "execution_count": 51,
   "id": "81c9df1b-e454-499b-b42f-bd6235bd91ae",
   "metadata": {
    "tags": []
   },
   "outputs": [],
   "source": [
    "def drop_features_reg(df):\n",
    "    new = df.drop(columns=['population_density',\n",
    "                     'max_torque',\n",
    "                     'max_power',\n",
    "                     'cylinder',\n",
    "                     'length',\n",
    "                     'width',\n",
    "                     'height',\n",
    "                     'make_1',\n",
    "                     'make_2',\n",
    "                     'make_3',\n",
    "                     'make_4',\n",
    "                     'make_5',\n",
    "                     'segment_A',\n",
    "                     'segment_B1',\n",
    "                     'segment_B2',\n",
    "                     'segment_C1',\n",
    "                     'segment_C2',\n",
    "                     'segment_U',\n",
    "                     'airbags',\n",
    "                     'is_esc',\n",
    "                     'is_adjustable_steering',\n",
    "                     'is_tpms',\n",
    "                     'is_parking_sensors',\n",
    "                     'is_parking_camera',\n",
    "                     'rear_brakes_type',\n",
    "                     'displacement',\n",
    "                     'transmission_type',\n",
    "                     'gear_box',\n",
    "                     'turning_radius',\n",
    "                     'gross_weight',\n",
    "                     'is_front_fog_lights',\n",
    "                     'is_rear_window_wiper',\n",
    "                     'is_rear_window_washer',\n",
    "                     'is_rear_window_defogger',\n",
    "                     'is_brake_assist',\n",
    "                     'is_power_door_locks',\n",
    "                     'is_central_locking',\n",
    "                     'is_driver_seat_height_adjustable',\n",
    "                     'is_day_night_rear_view_mirror',\n",
    "                     'is_ecw',\n",
    "                     'is_speed_alert',\n",
    "                     'ncap_rating',\n",
    "                     'fuel_type_Petrol',\n",
    "                     'fuel_type_Diesel',\n",
    "                     'fuel_type_CNG',\n",
    "                     'steering_type_Manual',\n",
    "                     'steering_type_Power',\n",
    "                     'steering_type_Electric'])    \n",
    "    return new\n",
    "    "
   ]
  },
  {
   "cell_type": "code",
   "execution_count": 52,
   "id": "3ef2713d-f18c-4730-a781-f81441e48cbd",
   "metadata": {
    "tags": []
   },
   "outputs": [],
   "source": [
    "def find_correlated_features(df, threshold, target_variable):\n",
    "    # remove target column\n",
    "    df = df.drop(columns=target_variable).copy()\n",
    "    # Get correlation matrix\n",
    "    corr_matrix = df.corr().abs()\n",
    "    # Take half of the matrix to prevent doubling results\n",
    "    corr_matrix = corr_matrix.where(np.triu(np.ones(corr_matrix.shape), k = 1).astype(bool))\n",
    "    # Restructure correlation matrix to dataframe\n",
    "    df = corr_matrix.stack().reset_index()\n",
    "    df.columns = ['feature1', 'feature2', 'corr_coef']\n",
    "    # Apply filter and sort coefficients\n",
    "    df = df[df.corr_coef >= threshold].sort_values('corr_coef', ascending=False)\n",
    "    return df"
   ]
  },
  {
   "cell_type": "code",
   "execution_count": 53,
   "id": "edd33192-25c9-481b-87cd-36ef99d560ac",
   "metadata": {
    "tags": []
   },
   "outputs": [],
   "source": [
    "def remove_correlated_feature(df, threshold, target_variable, removed_features):\n",
    "    while True:\n",
    "        # Get correlation matrices\n",
    "        features_corr = df.drop(columns=target_variable).corr().abs()\n",
    "        target_corr = df.corr().abs()\n",
    "\n",
    "        # Take half of the matrix to prevent doubling results\n",
    "        features_corr = features_corr.where(np.triu(np.ones(features_corr.shape), k = 1).astype(bool))\n",
    "\n",
    "        # Restructure correlation matrix to dataframe\n",
    "        features_corr = features_corr.stack().reset_index()\n",
    "        features_corr.columns = ['feature1', 'feature2', 'corr_coef']\n",
    "        target_corr = target_corr.reset_index()[['index', target_variable]]\n",
    "        target_corr.columns = ['feature', 'corr_coef']\n",
    "\n",
    "        # Get top 1 result for correlated feature\n",
    "        features_corr = features_corr[features_corr.corr_coef >= threshold].sort_values('corr_coef', ascending=False)\n",
    "        \n",
    "        # Exit loop if no more correlated features\n",
    "        if features_corr.empty:\n",
    "            break\n",
    "        features_corr = features_corr.iloc[0]\n",
    "\n",
    "        # Get features correlation coefficient to target variable for reference\n",
    "        target_corr = target_corr.sort_values('corr_coef', ascending=False)\n",
    "\n",
    "        target_corr.to_csv(f'target_corr_age.csv', index=False)\n",
    "            \n",
    "        # Reference feature correlation to target, drop the correlation feature with lower correlation to target\n",
    "        feature1 = features_corr['feature1']\n",
    "        feature2 = features_corr['feature2']\n",
    "\n",
    "        feature1_target = float(target_corr[target_corr.feature == feature1]['corr_coef'].iloc[0])\n",
    "        feature2_target = float(target_corr[target_corr.feature == feature2]['corr_coef'].iloc[0])\n",
    "\n",
    "        if feature1_target > feature2_target:\n",
    "            df.drop(columns=feature2, inplace=True)\n",
    "            removed_features.append(feature2)\n",
    "        else:\n",
    "            df.drop(columns=feature1, inplace=True)\n",
    "            removed_features.append(feature1)\n",
    "        \n",
    "    return df\n"
   ]
  },
  {
   "cell_type": "code",
   "execution_count": 363,
   "id": "667b9534-6ed6-4d20-883f-d5f3b6f5336c",
   "metadata": {
    "tags": []
   },
   "outputs": [],
   "source": [
    "def get_sample_weight(df, target_variable):\n",
    "    total_observations = df.shape[0]\n",
    "    observations_in_classes = df.groupby(target_variable).size().to_frame('observations')\n",
    "    number_of_classes = len(observations_in_classes)\n",
    "    sample_weight_df = df\n",
    "    sample_weight_df = sample_weight_df.join(observations_in_classes, on=target_variable)\n",
    "    sample_weight_df = sample_weight_df.assign(sample_weight=sample_weight_df['observations'].apply(lambda x: (1/number_of_classes)/(x/total_observations)))\n",
    "    return sample_weight_df['sample_weight']\n",
    "    "
   ]
  },
  {
   "cell_type": "code",
   "execution_count": 364,
   "id": "6a12ae4f-452b-444e-92b7-3549a2cbc53e",
   "metadata": {
    "tags": []
   },
   "outputs": [],
   "source": [
    "def histogram(data, feature_name, num_bins='auto'):\n",
    "    plt.hist(data, bins=num_bins)\n",
    "    plt.title(feature_name+' Histogram')    \n",
    "    plt.xlabel(feature_name)\n",
    "    plt.ylabel('Count')\n",
    "    plt.savefig(feature_name + '_histogram.png')\n",
    "    plt.clf()\n"
   ]
  },
  {
   "cell_type": "markdown",
   "id": "7ef36e29-de94-46c4-893c-f101a590bdeb",
   "metadata": {},
   "source": [
    "# Age of Policy Holder Linear Regression"
   ]
  },
  {
   "cell_type": "code",
   "execution_count": 387,
   "id": "5311a5e1-4136-4bc9-b088-68ecdd7002ec",
   "metadata": {
    "tags": []
   },
   "outputs": [],
   "source": [
    "df_train = pd.read_csv('train.csv', index_col=0)\n",
    "df_test = pd.read_csv('test.csv', index_col=0)"
   ]
  },
  {
   "cell_type": "code",
   "execution_count": 388,
   "id": "4ad5ca77-b4e9-4025-a7fc-7162fee9cd01",
   "metadata": {
    "tags": []
   },
   "outputs": [],
   "source": [
    "df_train = preprocess_data(df_train)\n",
    "df_test = preprocess_data(df_test)"
   ]
  },
  {
   "cell_type": "code",
   "execution_count": 389,
   "id": "d4b998a6-b53c-4ab4-8a97-2036d1c38059",
   "metadata": {
    "tags": []
   },
   "outputs": [],
   "source": [
    "removed_features = []\n",
    "df_train_age = remove_correlated_feature(df_train.drop(columns=['policy_id']), 0.6, 'age_of_policyholder', removed_features)"
   ]
  },
  {
   "cell_type": "code",
   "execution_count": 391,
   "id": "0dda16af-7537-4deb-b9eb-86e61937a624",
   "metadata": {
    "tags": []
   },
   "outputs": [],
   "source": [
    "df_test_age = df_test\n",
    "df_test_age.drop(columns=removed_features, inplace=True)"
   ]
  },
  {
   "cell_type": "code",
   "execution_count": 219,
   "id": "05068d13-48fe-4384-9e4e-39337dbba89f",
   "metadata": {
    "tags": []
   },
   "outputs": [],
   "source": [
    "df_train_age = drop_features_reg(df_train)\n",
    "df_test_age = drop_features_reg(df_test)\n",
    "\n",
    "y_age_train = df_train_age['age_of_policyholder']\n",
    "x_age_train = df_train_age.drop(columns=['policy_id', 'age_of_policyholder'])\n",
    "\n",
    "y_age_test = df_test_age['age_of_policyholder']\n",
    "x_age_test = df_test_age.drop(columns=['policy_id', 'age_of_policyholder'])"
   ]
  },
  {
   "cell_type": "code",
   "execution_count": 1005,
   "id": "c4460ba6-0da7-418b-bb40-22ce621d7f43",
   "metadata": {
    "tags": []
   },
   "outputs": [],
   "source": [
    "poly_age = PolynomialFeatures(1)\n",
    "x_age_train = poly_age.fit_transform(x_age_train)\n",
    "x_age_test = poly_age.fit_transform(x_age_test)"
   ]
  },
  {
   "cell_type": "code",
   "execution_count": 220,
   "id": "7b6bc1d6-4dce-4e5e-a3ef-be924628055d",
   "metadata": {
    "tags": []
   },
   "outputs": [
    {
     "name": "stdout",
     "output_type": "stream",
     "text": [
      "Mean squared error:  91.88670078355715\n",
      "R-squared value:  0.051080473531282644\n",
      "Coefficients: [ 0.04378134 -0.0184691   0.48825327 -0.1740999  -0.34986747 -0.73324617\n",
      " -1.15086932  1.08002324  0.04936346 -2.39841338  1.06303974  0.7496838\n",
      "  0.45813433  1.70373299  0.83160529 -0.5219798   0.82371444 -0.7164149\n",
      " -0.12416363 -0.25045231 -1.10580691  0.88774998 -0.43512274  0.50096439\n",
      " -0.18757513  2.10630244 -0.44999139 -0.46714715  0.54698415  0.73957187\n",
      "  1.41378531 -0.19227775 -1.81557825 -1.29635982 -0.68774191  0.10245249]\n"
     ]
    }
   ],
   "source": [
    "# Create a linear regression model\n",
    "reg = LinearRegression()\n",
    "\n",
    "# Train the model using the training data\n",
    "reg.fit(x_age_train, y_age_train)\n",
    "\n",
    "# Predict the revenue for the test data\n",
    "y_pred = reg.predict(x_age_test)\n",
    "y_pred_df = pd.DataFrame(df_test['policy_id'], y_pred, columns=['policy_id', 'age'])\n",
    "\n",
    "# Evaluate the performance of the model using mean squared error and R-squared values\n",
    "mse = mean_squared_error(y_age_test, y_pred)\n",
    "r2 = r2_score(y_age_test, y_pred)\n",
    "\n",
    "print(\"Mean squared error: \", mse)\n",
    "print(\"R-squared value: \", r2)\n",
    "print(\"Coefficients:\", reg.coef_)"
   ]
  },
  {
   "cell_type": "markdown",
   "id": "b672cbcc-f2e4-40ec-8668-44defb7a2b2a",
   "metadata": {},
   "source": [
    "# Age of Policy Holder Random Forest Regression"
   ]
  },
  {
   "cell_type": "code",
   "execution_count": 475,
   "id": "34d8f5fc-efa9-4cac-baf0-1256b7f2c313",
   "metadata": {
    "tags": []
   },
   "outputs": [],
   "source": [
    "df_train = pd.read_csv('train.csv', index_col=0)\n",
    "df_test = pd.read_csv('test.csv', index_col=0)\n",
    "df_train = preprocess_data(df_train)\n",
    "df_test = preprocess_data(df_test)"
   ]
  },
  {
   "cell_type": "code",
   "execution_count": 476,
   "id": "7b54b28a-a692-413f-93ed-ec157114468c",
   "metadata": {
    "tags": []
   },
   "outputs": [],
   "source": [
    "df_train_age = drop_features_reg(df_train)\n",
    "df_test_age = drop_features_reg(df_test)"
   ]
  },
  {
   "cell_type": "code",
   "execution_count": 481,
   "id": "9bbfe2e9-5f0c-4a2b-8b97-ecbdc6f2e6b7",
   "metadata": {
    "tags": []
   },
   "outputs": [],
   "source": [
    "y_age_train = df_train_age['age_of_policyholder']\n",
    "x_age_train = df_train_age.drop(columns=['policy_id', 'age_of_policyholder'])\n",
    "\n",
    "y_age_test = df_test_age['age_of_policyholder']\n",
    "x_age_test = df_test_age.drop(columns=['policy_id', 'age_of_policyholder'])"
   ]
  },
  {
   "cell_type": "code",
   "execution_count": 483,
   "id": "161c1098-5d75-4391-914e-f05a9e08b3ee",
   "metadata": {
    "tags": []
   },
   "outputs": [
    {
     "data": {
      "text/plain": [
       "15194    0.607903\n",
       "26329    0.760688\n",
       "1174     0.607903\n",
       "55371    0.607903\n",
       "45259    0.319163\n",
       "           ...   \n",
       "5264     0.607903\n",
       "23758    0.308414\n",
       "29765    0.926441\n",
       "23048    2.006421\n",
       "34779    0.634357\n",
       "Name: sample_weight, Length: 40000, dtype: float64"
      ]
     },
     "execution_count": 483,
     "metadata": {},
     "output_type": "execute_result"
    }
   ],
   "source": [
    "sample_weight = get_sample_weight(df_train_age, 'age_of_policyholder')\n",
    "sample_weight"
   ]
  },
  {
   "cell_type": "code",
   "execution_count": 485,
   "id": "04f837e2-1ab7-415c-8da4-596e6e3e0312",
   "metadata": {
    "tags": []
   },
   "outputs": [],
   "source": [
    "def get_optimum_depth_reg(x_age_train, y_age_train, x_age_test, y_age_test):\n",
    "    mse = [99999]\n",
    "    for n in range(1, 101):\n",
    "        rfr = RandomForestRegressor(max_depth=n, max_features=12, n_jobs=-1, random_state=0)\n",
    "\n",
    "        # Train the model using the training data\n",
    "        rfr.fit(x_age_train, y_age_train)\n",
    "\n",
    "        # Predict the age for the test data\n",
    "        y_pred = rfr.predict(x_age_test)\n",
    "\n",
    "        mse.append(mean_squared_error(y_age_test, y_pred))\n",
    "    \n",
    "    optimum_depth = mse.index(min(mse))\n",
    "    \n",
    "    return optimum_depth, mse\n",
    "    "
   ]
  },
  {
   "cell_type": "code",
   "execution_count": 486,
   "id": "f66c7cd2-82c7-4ded-b386-582c6ed5e029",
   "metadata": {
    "tags": []
   },
   "outputs": [],
   "source": [
    "def get_optimum_max_features_reg(x_age_train, y_age_train, x_age_test, y_age_test):\n",
    "    mse = [99999]\n",
    "    for n in range(1, 36):\n",
    "        rfr = RandomForestRegressor(max_depth=10, n_jobs=-1, random_state=0, max_features=n)\n",
    "\n",
    "        # Train the model using the training data\n",
    "        rfr.fit(x_age_train, y_age_train)\n",
    "\n",
    "        # Predict the age for the test data\n",
    "        y_pred = rfr.predict(x_age_test)\n",
    "\n",
    "        mse.append(mean_squared_error(y_age_test, y_pred))\n",
    "    \n",
    "    optimum_mf = mse.index(min(mse))\n",
    "    \n",
    "    return optimum_mf, mse"
   ]
  },
  {
   "cell_type": "code",
   "execution_count": 376,
   "id": "fc89f1ca-66e7-46e7-93b1-44d9a79b1619",
   "metadata": {
    "tags": []
   },
   "outputs": [
    {
     "data": {
      "text/plain": [
       "12"
      ]
     },
     "execution_count": 376,
     "metadata": {},
     "output_type": "execute_result"
    }
   ],
   "source": [
    "opt_mf_reg, mse_reg_f = get_optimum_max_features_reg(x_age_train, y_age_train, x_age_test, y_age_test)\n",
    "opt_mf_reg"
   ]
  },
  {
   "cell_type": "code",
   "execution_count": 377,
   "id": "a3524f95-ccdd-403a-8e22-c0073f9e816c",
   "metadata": {
    "tags": []
   },
   "outputs": [],
   "source": [
    "mf_reg_df = pd.DataFrame({'mse':mse_reg_f})\n",
    "mf_reg_df.reset_index()\n",
    "mf_reg_df.to_csv('mse_max_features.csv', index=True)"
   ]
  },
  {
   "cell_type": "code",
   "execution_count": 385,
   "id": "ad6a84b2-5ab8-4315-9aaf-91183b7edbb5",
   "metadata": {
    "tags": []
   },
   "outputs": [
    {
     "data": {
      "text/plain": [
       "10"
      ]
     },
     "execution_count": 385,
     "metadata": {},
     "output_type": "execute_result"
    }
   ],
   "source": [
    "opt_depth_reg, mse_reg_d = get_optimum_depth_reg(x_age_train, y_age_train, x_age_test, y_age_test)\n",
    "opt_depth_reg"
   ]
  },
  {
   "cell_type": "code",
   "execution_count": 386,
   "id": "3ae7adcc-b5cb-4d8c-a909-9df5075bbb86",
   "metadata": {
    "tags": []
   },
   "outputs": [],
   "source": [
    "depth_reg_df = pd.DataFrame({'mse':mse_reg_d})\n",
    "depth_reg_df.reset_index()\n",
    "depth_reg_df.to_csv('mse_depth.csv', index=True)"
   ]
  },
  {
   "cell_type": "code",
   "execution_count": 488,
   "id": "d0b3a91d-b595-49ae-bb3f-07703f3c764c",
   "metadata": {
    "tags": []
   },
   "outputs": [
    {
     "name": "stdout",
     "output_type": "stream",
     "text": [
      "Mean squared error:  91.10831876231225\n",
      "R-squared value:  0.05911887182736819\n"
     ]
    }
   ],
   "source": [
    "# Create a random forrest regression model\n",
    "rfr = RandomForestRegressor(max_depth=10, max_features=12, n_jobs=-1, random_state=0)\n",
    "\n",
    "# Train the model using the training data\n",
    "rfr.fit(x_age_train, y_age_train)\n",
    "\n",
    "# Predict the age for the test data\n",
    "y_pred = rfr.predict(x_age_test)\n",
    "y_pred_df = pd.DataFrame(df_test['policy_id'], y_pred, columns=['policy_id', 'age'])\n",
    "# y_pred_df.to_csv(f'{studentid}.PART1.output.csv', index=False)\n",
    "\n",
    "\n",
    "# Evaluate the performance of the model using mean squared error and R-squared values\n",
    "mse = mean_squared_error(y_age_test, y_pred)\n",
    "r2 = r2_score(y_age_test, y_pred)\n",
    "\n",
    "print(\"Mean squared error: \", mse)\n",
    "print(\"R-squared value: \", r2)"
   ]
  },
  {
   "cell_type": "markdown",
   "id": "116381b1-b8e0-443f-a76b-a0c943ad4f4d",
   "metadata": {},
   "source": [
    "# is_claim KNN Classification"
   ]
  },
  {
   "cell_type": "code",
   "execution_count": 721,
   "id": "e6e3382f-4fd7-4693-afed-1811d8ae0f63",
   "metadata": {
    "tags": []
   },
   "outputs": [],
   "source": [
    "removed_features_claim = []\n",
    "df_train_claim = remove_correlated_feature(df_train.drop(columns=['policy_id']), 0.6, 'is_claim', removed_features_claim)"
   ]
  },
  {
   "cell_type": "code",
   "execution_count": 723,
   "id": "d3a0a404-2dc0-4675-991b-8dffa6d16cc8",
   "metadata": {
    "tags": []
   },
   "outputs": [],
   "source": [
    "df_test_claim = df_test\n",
    "df_test_claim = df_test_claim.drop(columns=removed_features_claim)"
   ]
  },
  {
   "cell_type": "code",
   "execution_count": 724,
   "id": "59cab7d2-4c03-40ae-b2a3-dfb4c2ee04f9",
   "metadata": {
    "tags": []
   },
   "outputs": [],
   "source": [
    "y_claim_train = df_train_claim['is_claim']\n",
    "x_claim_train = df_train_claim.drop(columns=['is_claim'])\n",
    "\n",
    "y_claim_test = df_test_claim['is_claim']\n",
    "x_claim_test = df_test_claim.drop(columns=['policy_id', 'is_claim'])"
   ]
  },
  {
   "cell_type": "code",
   "execution_count": 599,
   "id": "f4c9fcb8-0450-474e-a6ef-7e6cae2cd98c",
   "metadata": {
    "tags": []
   },
   "outputs": [],
   "source": [
    "poly_claim = PolynomialFeatures(1)\n",
    "x_claim_train = poly_claim.fit_transform(x_claim_train)\n",
    "x_claim_test = poly_claim.fit_transform(x_claim_test)"
   ]
  },
  {
   "cell_type": "code",
   "execution_count": 600,
   "id": "4af1b4eb-6e25-41b8-ae2b-370b483ff8c7",
   "metadata": {
    "tags": []
   },
   "outputs": [
    {
     "name": "stdout",
     "output_type": "stream",
     "text": [
      "confusion_matrix:\n",
      " [[4664   17]\n",
      " [ 317    2]]\n",
      "precision:\t 0.5208106594532909\n",
      "recall:\t\t 0.5013189449244226\n",
      "accuracy:\t 0.9332\n",
      "f1:\t 0.48863295359481845\n"
     ]
    }
   ],
   "source": [
    "# train a classifier\n",
    "knn = KNeighborsClassifier()\n",
    "knn.fit(x_claim_train, y_claim_train)\n",
    "\n",
    "# predict the test set\n",
    "pred_claim = knn.predict(x_claim_test)\n",
    "\n",
    "pred_claim_df = pd.DataFrame(pred_claim, columns=['predicted_ratinge'])\n",
    "# pred_rating_df.to_csv(f'z{id}.PART2.output.csv', index=False)\n",
    "\n",
    "\n",
    "print(\"confusion_matrix:\\n\", confusion_matrix(y_claim_test, pred_claim))\n",
    "print(\"precision:\\t\", precision_score(y_claim_test, pred_claim, average='macro'))\n",
    "print(\"recall:\\t\\t\", recall_score(y_claim_test, pred_claim, average='macro'))\n",
    "print(\"accuracy:\\t\", accuracy_score(y_claim_test, pred_claim))\n",
    "print(\"f1:\\t\", f1_score(y_claim_test, pred_claim, average='macro'))"
   ]
  },
  {
   "cell_type": "markdown",
   "id": "fe017bf7-ac13-4d3a-86b8-0ae207015438",
   "metadata": {},
   "source": [
    "# is_claim Random Forest Classification"
   ]
  },
  {
   "cell_type": "code",
   "execution_count": 10,
   "id": "0ebecc20-9555-4cf9-9e67-704675d03331",
   "metadata": {
    "tags": []
   },
   "outputs": [],
   "source": [
    "df_train = pd.read_csv('train.csv', index_col=0)\n",
    "df_test = pd.read_csv('test.csv', index_col=0)\n",
    "\n",
    "df_train = preprocess_data(df_train)\n",
    "df_test = preprocess_data(df_test)"
   ]
  },
  {
   "cell_type": "code",
   "execution_count": 11,
   "id": "49300056-3cc1-409f-ac7b-f26d1422613c",
   "metadata": {
    "tags": []
   },
   "outputs": [],
   "source": [
    "df_train_claim = df_train.drop(columns=['policy_id'])\n",
    "df_test_claim = df_test.drop(columns=['policy_id'])\n",
    "\n",
    "y_claim_train = df_train_claim['is_claim']\n",
    "x_claim_train = df_train_claim.drop(columns=['is_claim'])\n",
    "\n",
    "y_claim_test = df_test_claim['is_claim']\n",
    "x_claim_test = df_test_claim.drop(columns=['is_claim'])"
   ]
  },
  {
   "cell_type": "code",
   "execution_count": 11,
   "id": "25f5d1cd-ed78-425a-94e3-d20d3487d8ee",
   "metadata": {
    "tags": []
   },
   "outputs": [],
   "source": [
    "df_train_claim = drop_features_clf(df_train).drop(columns=['policy_id'])\n",
    "df_test_claim =  drop_features_clf(df_test).drop(columns=['policy_id'])\n",
    "\n",
    "y_claim_train = df_train_claim['is_claim']\n",
    "x_claim_train = df_train_claim.drop(columns=['is_claim'])\n",
    "\n",
    "y_claim_test = df_test_claim['is_claim']\n",
    "x_claim_test = df_test_claim.drop(columns=['is_claim'])"
   ]
  },
  {
   "cell_type": "code",
   "execution_count": 12,
   "id": "17ab2f3b-9577-4a64-ab20-3e6b80df605f",
   "metadata": {
    "tags": []
   },
   "outputs": [],
   "source": [
    "poly_claim = PolynomialFeatures(2)\n",
    "x_claim_train = poly_claim.fit_transform(x_claim_train)\n",
    "x_claim_test = poly_claim.fit_transform(x_claim_test)"
   ]
  },
  {
   "cell_type": "code",
   "execution_count": 14,
   "id": "70083e0d-6bfb-41e1-8180-fb3b3f505efd",
   "metadata": {
    "tags": []
   },
   "outputs": [],
   "source": [
    "def get_optimum_depth(x_claim_train, y_claim_train, x_claim_test, y_claim_test):\n",
    "    f1_scores = [0]\n",
    "    for n in range(1, 101):\n",
    "        rf = RandomForestClassifier(max_depth=n, n_jobs=-1, class_weight='balanced_subsample', random_state=0, max_features=10)\n",
    "        rf.fit(x_claim_train, y_claim_train)\n",
    "\n",
    "        # predict the test set\n",
    "        pred_claim = rf.predict(x_claim_test)\n",
    "\n",
    "        f1_scores.append(f1_score(y_claim_test, pred_claim, average='macro'))\n",
    "    \n",
    "    optimum_depth = f1_scores.index(max(f1_scores))\n",
    "    \n",
    "    return optimum_depth, f1_scores\n",
    "    "
   ]
  },
  {
   "cell_type": "code",
   "execution_count": 15,
   "id": "fedc4e01-897d-4399-8000-c5f341f82226",
   "metadata": {
    "tags": []
   },
   "outputs": [],
   "source": [
    "def get_optimum_max_features(x_claim_train, y_claim_train, x_claim_test, y_claim_test):\n",
    "    f1_scores = [0]\n",
    "    for n in range(1, 903):\n",
    "        rf = RandomForestClassifier(n_jobs=-1, class_weight='balanced_subsample', random_state=0, max_features=n)\n",
    "        rf.fit(x_claim_train, y_claim_train)\n",
    "\n",
    "        # predict the test set\n",
    "        pred_claim = rf.predict(x_claim_test)\n",
    "\n",
    "        f1_scores.append(f1_score(y_claim_test, pred_claim, average='macro'))\n",
    "    \n",
    "    optimum_mf = f1_scores.index(max(f1_scores))\n",
    "    \n",
    "    return optimum_mf, f1_scores\n",
    "    "
   ]
  },
  {
   "cell_type": "code",
   "execution_count": 25,
   "id": "405b4562-3772-4bed-8eea-4e6b2a079ad1",
   "metadata": {
    "tags": []
   },
   "outputs": [],
   "source": [
    "opt_depth, f1_depth = get_optimum_depth(x_claim_train, y_claim_train, x_claim_test, y_claim_test)"
   ]
  },
  {
   "cell_type": "code",
   "execution_count": 26,
   "id": "5578fbc0-b957-462d-821e-2341f817536d",
   "metadata": {
    "tags": []
   },
   "outputs": [
    {
     "data": {
      "text/plain": [
       "20"
      ]
     },
     "execution_count": 26,
     "metadata": {},
     "output_type": "execute_result"
    }
   ],
   "source": [
    "opt_depth"
   ]
  },
  {
   "cell_type": "code",
   "execution_count": 816,
   "id": "95240e44-63ab-4371-8de7-675eed919404",
   "metadata": {
    "tags": []
   },
   "outputs": [],
   "source": [
    "f1_depth_df = pd.DataFrame({'score':f1_depth})"
   ]
  },
  {
   "cell_type": "code",
   "execution_count": 820,
   "id": "d6cffd92-bec4-43c5-ae36-8e5cf7a1c76c",
   "metadata": {
    "tags": []
   },
   "outputs": [],
   "source": [
    "f1_depth_df.reset_index()\n",
    "f1_depth_df.to_csv('f1_depth.csv', index=True)"
   ]
  },
  {
   "cell_type": "code",
   "execution_count": 13,
   "id": "8c33bc05-68e8-41e7-9707-c4f3ac2add3e",
   "metadata": {
    "tags": []
   },
   "outputs": [
    {
     "name": "stdout",
     "output_type": "stream",
     "text": [
      "confusion_matrix:\n",
      " [[4195  486]\n",
      " [ 239   80]]\n",
      "precision:\t 0.5437205436308895\n",
      "recall:\t\t 0.5734798649111092\n",
      "accuracy:\t 0.855\n",
      "f1:\t 0.5506258696938987\n"
     ]
    }
   ],
   "source": [
    "# train a classifier\n",
    "rf = RandomForestClassifier(max_depth=21, n_jobs=-1, class_weight='balanced_subsample', random_state=0, max_features=10)\n",
    "rf.fit(x_claim_train, y_claim_train)\n",
    "\n",
    "# predict the test set\n",
    "pred_claim = rf.predict(x_claim_test)\n",
    "\n",
    "pred_claim_df = pd.DataFrame(pred_claim, columns=['predicted_claim'])\n",
    "# pred_rating_df.to_csv(f'z{id}.PART2.output.csv', index=False)\n",
    "\n",
    "\n",
    "print(\"confusion_matrix:\\n\", confusion_matrix(y_claim_test, pred_claim))\n",
    "print(\"precision:\\t\", precision_score(y_claim_test, pred_claim, average='macro'))\n",
    "print(\"recall:\\t\\t\", recall_score(y_claim_test, pred_claim, average='macro'))\n",
    "print(\"accuracy:\\t\", accuracy_score(y_claim_test, pred_claim))\n",
    "print(\"f1:\\t\", f1_score(y_claim_test, pred_claim, average='macro'))"
   ]
  },
  {
   "cell_type": "code",
   "execution_count": 491,
   "id": "9731a6d4-75cd-423e-90b3-578766059cb4",
   "metadata": {
    "tags": []
   },
   "outputs": [],
   "source": [
    "def get_feature_importance(model, data):\n",
    "    feature_names = data\n",
    "    feature_importance = model.feature_importances_\n",
    "    feature_importance_df = pd.DataFrame({'feature':feature_names, 'importance':feature_importance})\n",
    "    feature_importance__df = feature_importance_df.sort_values('importance',ascending=False).reset_index(drop=True)\n",
    "    return feature_importance__df"
   ]
  },
  {
   "cell_type": "markdown",
   "id": "74f32541-4ba4-431a-830d-ba392f315f40",
   "metadata": {},
   "source": [
    "# Feature Importance for Age and is_claim (Random Forest)"
   ]
  },
  {
   "cell_type": "code",
   "execution_count": 501,
   "id": "fca7b02e-7352-4036-99e4-ac081a052551",
   "metadata": {
    "tags": []
   },
   "outputs": [
    {
     "name": "stdout",
     "output_type": "stream",
     "text": [
      "                                 feature  importance\n",
      "0                        policy_tenure^2    0.079063\n",
      "1                          policy_tenure    0.079051\n",
      "2               policy_tenure age_of_car    0.077680\n",
      "3                           age_of_car^2    0.045591\n",
      "4      policy_tenure steering_type_Power    0.045333\n",
      "5                             age_of_car    0.044985\n",
      "6   policy_tenure steering_type_Electric    0.032595\n",
      "7            policy_tenure fuel_type_CNG    0.026651\n",
      "8         policy_tenure fuel_type_Petrol    0.026272\n",
      "9         age_of_car steering_type_Power    0.024901\n",
      "10                policy_tenure model_M1    0.021730\n",
      "11        policy_tenure fuel_type_Diesel    0.021549\n",
      "12         policy_tenure area_cluster_C8    0.018871\n",
      "13                policy_tenure model_M6    0.018529\n",
      "14     age_of_car steering_type_Electric    0.018202\n",
      "15                policy_tenure model_M4    0.017848\n",
      "16           age_of_car fuel_type_Petrol    0.016737\n",
      "17              age_of_car fuel_type_CNG    0.015279\n",
      "18           age_of_car fuel_type_Diesel    0.014345\n",
      "19                   age_of_car model_M1    0.011913\n"
     ]
    }
   ],
   "source": [
    "feature_importance_claim_df = get_feature_importance(rf, poly_claim.get_feature_names_out())\n",
    "print(feature_importance_claim_df.head(20))\n",
    "feature_importance_claim_df.to_csv('feature_importance_claim.csv', index=False)"
   ]
  },
  {
   "cell_type": "code",
   "execution_count": 502,
   "id": "796851c0-9347-4855-bb10-af269faea844",
   "metadata": {
    "tags": []
   },
   "outputs": [
    {
     "name": "stdout",
     "output_type": "stream",
     "text": [
      "             feature  importance\n",
      "0      policy_tenure    0.442683\n",
      "1         age_of_car    0.196429\n",
      "2           model_M1    0.044932\n",
      "3           model_M8    0.041639\n",
      "4           model_M6    0.030875\n",
      "5    area_cluster_C7    0.029006\n",
      "6           is_claim    0.022675\n",
      "7    area_cluster_C8    0.021274\n",
      "8    area_cluster_C5    0.018711\n",
      "9   area_cluster_C11    0.015663\n",
      "10          model_M9    0.014221\n",
      "11          model_M4    0.012315\n",
      "12   area_cluster_C3    0.012038\n",
      "13  area_cluster_C13    0.009212\n",
      "14          model_M3    0.007926\n",
      "15   area_cluster_C9    0.007878\n",
      "16   area_cluster_C2    0.007030\n",
      "17  area_cluster_C14    0.006323\n",
      "18          model_M7    0.005462\n",
      "19  area_cluster_C12    0.005352\n"
     ]
    }
   ],
   "source": [
    "feature_importance_age_df = get_feature_importance(rfr, list(x_age_train.columns))\n",
    "print(feature_importance_age_df.head(20))\n",
    "feature_importance_age_df.to_csv('feature_importance_claim.csv', index=False)"
   ]
  }
 ],
 "metadata": {
  "kernelspec": {
   "display_name": "Python 3 (ipykernel)",
   "language": "python",
   "name": "python3"
  },
  "language_info": {
   "codemirror_mode": {
    "name": "ipython",
    "version": 3
   },
   "file_extension": ".py",
   "mimetype": "text/x-python",
   "name": "python",
   "nbconvert_exporter": "python",
   "pygments_lexer": "ipython3",
   "version": "3.12.2"
  }
 },
 "nbformat": 4,
 "nbformat_minor": 5
}
